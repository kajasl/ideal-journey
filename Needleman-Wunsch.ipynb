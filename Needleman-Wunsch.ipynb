{
 "cells": [
  {
   "cell_type": "code",
   "execution_count": 15,
   "id": "cb71f1c4",
   "metadata": {},
   "outputs": [],
   "source": [
    "import pandas as pd\n",
    "import json\n",
    "import numpy"
   ]
  },
  {
   "cell_type": "code",
   "execution_count": 12,
   "id": "9d03bee0",
   "metadata": {},
   "outputs": [],
   "source": [
    "dataset = pd.read_csv(\"partial_subtracks.csv\")"
   ]
  },
  {
   "cell_type": "code",
   "execution_count": 13,
   "id": "7813d8b7",
   "metadata": {},
   "outputs": [
    {
     "name": "stdout",
     "output_type": "stream",
     "text": [
      "          lat       lon  id  DBSCAN_labels new_ids\n",
      "0   41.148522 -8.585676  T1              0      T1\n",
      "1   41.148639 -8.585712  T1              0      T1\n",
      "2   41.148855 -8.585685  T1              0      T1\n",
      "3   41.148927 -8.585730  T1              0      T1\n",
      "4   41.148963 -8.585982  T1              0      T1\n",
      "5   41.148954 -8.586396  T1              0      T1\n",
      "6   41.148720 -8.586072  T1              0      T1\n",
      "7   41.147847 -8.586324  T1              0      T1\n",
      "8   41.147460 -8.586999  T1              0      T1\n",
      "9   41.147154 -8.586576  T1              0      T1\n",
      "10  41.145570 -8.610876  T2              1      T2\n",
      "11  41.145579 -8.610858  T2              1      T2\n",
      "12  41.145768 -8.610903  T2              1      T2\n",
      "13  41.146191 -8.610444  T2              1      T2\n",
      "14  41.146758 -8.609445  T2              1      T2\n",
      "15  41.147118 -8.608896  T2              1      T2\n",
      "16  41.147127 -8.608968  T2              1      T2\n",
      "17  41.147532 -8.608707  T2              1      T2\n",
      "18  41.148117 -8.608347  T2              1      T2\n",
      "19  41.148351 -8.608149  T2              1      T2\n",
      "20  41.148576 -8.608041  T2              1      T2\n",
      "21  41.149260 -8.607654  T2              1      T2\n",
      "22  41.149899 -8.607348  T2              1      T2\n",
      "23  41.149899 -8.607393  T2              1      T2\n",
      "24  41.149962 -8.607357  T2              1      T2\n",
      "25  41.150979 -8.606817  T2              1      T2\n",
      "26  41.151915 -8.606358  T2              1      T2\n",
      "27  41.152788 -8.605719  T2              1      T2\n",
      "28  41.153319 -8.604981  T2              1      T2\n",
      "29  41.154345 -8.604783  T2              2      T2\n"
     ]
    }
   ],
   "source": [
    "print(dataset[:30])"
   ]
  },
  {
   "cell_type": "code",
   "execution_count": null,
   "id": "ba794e00",
   "metadata": {},
   "outputs": [],
   "source": []
  },
  {
   "cell_type": "code",
   "execution_count": 36,
   "id": "fd3a8fc4",
   "metadata": {},
   "outputs": [],
   "source": [
    "def point_distance(lat1, lat2):\n",
    "    # calculate the distance between the two points\n",
    "    # distance = 0\n",
    "    if lat1==lat2:\n",
    "        return 1\n",
    "    return -1"
   ]
  },
  {
   "cell_type": "code",
   "execution_count": 37,
   "id": "e8e7956d",
   "metadata": {},
   "outputs": [
    {
     "name": "stdout",
     "output_type": "stream",
     "text": [
      "A\n",
      "B\n",
      "C\n",
      "D\n",
      "[[ 0. -1. -2. -3. -4.]\n",
      " [-1.  1.  0. -1. -2.]\n",
      " [-2.  0.  0. -1.  0.]\n",
      " [-3. -1. -1.  1.  0.]\n",
      " [-4. -2.  0.  0.  0.]]\n"
     ]
    }
   ],
   "source": [
    "gap_penalty = -1\n",
    "\n",
    "def create_matrix(track1, track2):\n",
    "    matrix = numpy.zeros((len(track1)+1, len(track2)+1))\n",
    "    for i in range(0, len(track1)+1):\n",
    "        matrix[i][0] = gap_penalty * i\n",
    "    for j in range(0, len(track2)+1):\n",
    "        matrix[0][j] = gap_penalty * j\n",
    "    \n",
    "    for i in range(1, len(track1)+1):\n",
    "        t1 = track1[i-1]\n",
    "        for j in range(1, len(track2)+1):\n",
    "            t2 = track2[j-1]\n",
    "            match = matrix[i-1][j-1] + point_distance(t1, t2)\n",
    "            delete = matrix[i-1][j] + gap_penalty\n",
    "            insert = matrix[i][j-1] + gap_penalty\n",
    "            matrix[i, j] = max(match, max(delete, insert))\n",
    "    \n",
    "    return matrix\n",
    "\n",
    "matrix =create_matrix('ABCD', 'ADCB')      \n",
    "print(matrix)"
   ]
  },
  {
   "cell_type": "code",
   "execution_count": 45,
   "id": "066d92b9",
   "metadata": {},
   "outputs": [
    {
     "ename": "KeyboardInterrupt",
     "evalue": "",
     "output_type": "error",
     "traceback": [
      "\u001b[0;31m---------------------------------------------------------------------------\u001b[0m",
      "\u001b[0;31mKeyboardInterrupt\u001b[0m                         Traceback (most recent call last)",
      "\u001b[0;32m<ipython-input-45-476b20c97002>\u001b[0m in \u001b[0;36m<module>\u001b[0;34m\u001b[0m\n\u001b[1;32m     25\u001b[0m     \u001b[0;32mreturn\u001b[0m \u001b[0ma1\u001b[0m\u001b[0;34m,\u001b[0m \u001b[0ma2\u001b[0m\u001b[0;34m\u001b[0m\u001b[0;34m\u001b[0m\u001b[0m\n\u001b[1;32m     26\u001b[0m \u001b[0;34m\u001b[0m\u001b[0m\n\u001b[0;32m---> 27\u001b[0;31m \u001b[0mprint\u001b[0m\u001b[0;34m(\u001b[0m\u001b[0mbacktrack\u001b[0m\u001b[0;34m(\u001b[0m\u001b[0mmatrix\u001b[0m\u001b[0;34m,\u001b[0m \u001b[0;34m'ABCD'\u001b[0m\u001b[0;34m,\u001b[0m \u001b[0;34m'ADCB'\u001b[0m\u001b[0;34m)\u001b[0m\u001b[0;34m)\u001b[0m\u001b[0;34m\u001b[0m\u001b[0;34m\u001b[0m\u001b[0m\n\u001b[0m",
      "\u001b[0;32m<ipython-input-45-476b20c97002>\u001b[0m in \u001b[0;36mbacktrack\u001b[0;34m(matrix, track1, track2)\u001b[0m\n\u001b[1;32m     18\u001b[0m             \u001b[0mi\u001b[0m\u001b[0;34m=\u001b[0m\u001b[0mi\u001b[0m\u001b[0;34m-\u001b[0m\u001b[0;36m1\u001b[0m\u001b[0;34m\u001b[0m\u001b[0;34m\u001b[0m\u001b[0m\n\u001b[1;32m     19\u001b[0m             \u001b[0mprint\u001b[0m\u001b[0;34m(\u001b[0m\u001b[0;34m'gap'\u001b[0m\u001b[0;34m,\u001b[0m \u001b[0mi\u001b[0m\u001b[0;34m,\u001b[0m \u001b[0mj\u001b[0m\u001b[0;34m)\u001b[0m\u001b[0;34m\u001b[0m\u001b[0;34m\u001b[0m\u001b[0m\n\u001b[0;32m---> 20\u001b[0;31m         \u001b[0;32melif\u001b[0m \u001b[0mj\u001b[0m \u001b[0;34m>\u001b[0m \u001b[0;36m0\u001b[0m \u001b[0;32mand\u001b[0m \u001b[0mmatrix\u001b[0m\u001b[0;34m[\u001b[0m\u001b[0mi\u001b[0m\u001b[0;34m]\u001b[0m\u001b[0;34m[\u001b[0m\u001b[0mj\u001b[0m\u001b[0;34m]\u001b[0m \u001b[0;34m==\u001b[0m \u001b[0mmatrix\u001b[0m\u001b[0;34m[\u001b[0m\u001b[0mi\u001b[0m\u001b[0;34m]\u001b[0m\u001b[0;34m[\u001b[0m\u001b[0mj\u001b[0m\u001b[0;34m-\u001b[0m\u001b[0;36m1\u001b[0m\u001b[0;34m]\u001b[0m \u001b[0;34m+\u001b[0m \u001b[0mgap_penalty\u001b[0m\u001b[0;34m:\u001b[0m\u001b[0;34m\u001b[0m\u001b[0;34m\u001b[0m\u001b[0m\n\u001b[0m\u001b[1;32m     21\u001b[0m             \u001b[0ma1\u001b[0m\u001b[0;34m.\u001b[0m\u001b[0minsert\u001b[0m\u001b[0;34m(\u001b[0m\u001b[0;36m0\u001b[0m\u001b[0;34m,\u001b[0m \u001b[0;32mNone\u001b[0m\u001b[0;34m)\u001b[0m\u001b[0;34m\u001b[0m\u001b[0;34m\u001b[0m\u001b[0m\n\u001b[1;32m     22\u001b[0m             \u001b[0ma2\u001b[0m\u001b[0;34m.\u001b[0m\u001b[0minsert\u001b[0m\u001b[0;34m(\u001b[0m\u001b[0;36m0\u001b[0m\u001b[0;34m,\u001b[0m \u001b[0mtrack2\u001b[0m\u001b[0;34m[\u001b[0m\u001b[0mj\u001b[0m\u001b[0;34m]\u001b[0m\u001b[0;34m)\u001b[0m\u001b[0;34m\u001b[0m\u001b[0;34m\u001b[0m\u001b[0m\n",
      "\u001b[0;31mKeyboardInterrupt\u001b[0m: "
     ]
    }
   ],
   "source": [
    "gap_penalty = -1\n",
    "def backtrack(matrix, track1, track2):\n",
    "    a1 = []\n",
    "    a2 = []\n",
    "    i = len(track1)\n",
    "    j = len(track2)\n",
    "    \n",
    "    while i > 0 or j > 0:\n",
    "        if i > 0 and j > 0 and matrix[i, j] == matrix[i-1][j-1] + 1:\n",
    "            a1.insert(0, track1[i])\n",
    "            a2.insert(0, track2[j])\n",
    "            i=i-1\n",
    "            j=j-1\n",
    "            print('match!', i, j)\n",
    "        elif i > 0 and matrix[i][j] == matrix[i-1][j] + gap_penalty:\n",
    "            a1.insert(0, track1[i])\n",
    "            a2.insert(0, None)\n",
    "            i=i-1\n",
    "            print('gap', i, j)\n",
    "        elif j > 0 and matrix[i][j] == matrix[i][j-1] + gap_penalty:\n",
    "            a1.insert(0, None)\n",
    "            a2.insert(0, track2[j])\n",
    "            j=j- 1\n",
    "            print('mismatch', i, j)\n",
    "    return a1, a2\n",
    "\n",
    "print(backtrack(matrix, 'ABCD', 'ADCB'))"
   ]
  },
  {
   "cell_type": "code",
   "execution_count": null,
   "id": "4ed602e6",
   "metadata": {},
   "outputs": [],
   "source": [
    "def backtrack2(matrix, track1, track2):\n",
    "    a = []\n",
    "    start = matrix[track1+1][track2+1]\n",
    "    "
   ]
  },
  {
   "cell_type": "code",
   "execution_count": null,
   "id": "d046fa71",
   "metadata": {},
   "outputs": [],
   "source": [
    "def align_tracks(track1, track2, gap_penalty):\n",
    "    \"\"\" Needleman-Wunsch algorithm adapted for gps tracks. \"\"\"\n",
    "    \n",
    "    _log.info(\"Aligning tracks\")\n",
    "\n",
    "    def similarity(p1, p2):\n",
    "        d = gpxpy.geo.distance(p1.latitude, p1.longitude, p1.elevation,\n",
    "                               p2.latitude, p2.longitude, p2.elevation)\n",
    "        return -d\n",
    "\n",
    "    # construct f-matrix\n",
    "    f = numpy.zeros((len(track1), len(track2)))\n",
    "    for i in range(0, len(track1)):\n",
    "        f[i][0] = gap_penalty * i\n",
    "    for j in range(0, len(track2)):\n",
    "        f[0][j] = gap_penalty * j\n",
    "    for i in range(1, len(track1)):\n",
    "        t1 = track1[i]\n",
    "        for j in range(1, len(track2)):\n",
    "            t2 = track2[j]\n",
    "            match = f[i-1][j-1] + similarity(t1, t2)\n",
    "            delete = f[i-1][j] + gap_penalty<\n",
    "            insert = f[i][j-1] + gap_penalty\n",
    "            f[i, j] = max(match, max(delete, insert))\n",
    "\n",
    "    # backtrack to create alignment\n",
    "    a1 = []\n",
    "    a2 = []\n",
    "    i = len(track1) - 1\n",
    "    j = len(track2) - 1\n",
    "    while i > 0 or j > 0:\n",
    "        if i > 0 and j > 0 and \\\n",
    "           f[i, j] == f[i-1][j-1] + similarity(track1[i], track2[j]):\n",
    "            a1.insert(0, track1[i])\n",
    "            a2.insert(0, track2[j])\n",
    "            i -= 1\n",
    "            j -= 1\n",
    "        elif i > 0 and f[i][j] == f[i-1][j] + gap_penalty:\n",
    "            a1.insert(0, track1[i])\n",
    "            a2.insert(0, None)\n",
    "            i -= 1\n",
    "        elif j > 0 and f[i][j] == f[i][j-1] + gap_penalty:\n",
    "            a1.insert(0, None)\n",
    "            a2.insert(0, track2[j])\n",
    "            j -= 1\n",
    "    return a1, a2\n",
    "\n",
    "align_tracks()"
   ]
  }
 ],
 "metadata": {
  "kernelspec": {
   "display_name": "Python 3",
   "language": "python",
   "name": "python3"
  },
  "language_info": {
   "codemirror_mode": {
    "name": "ipython",
    "version": 3
   },
   "file_extension": ".py",
   "mimetype": "text/x-python",
   "name": "python",
   "nbconvert_exporter": "python",
   "pygments_lexer": "ipython3",
   "version": "3.8.5"
  }
 },
 "nbformat": 4,
 "nbformat_minor": 5
}
